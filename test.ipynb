{
 "cells": [
  {
   "cell_type": "code",
   "execution_count": 2,
   "metadata": {},
   "outputs": [],
   "source": [
    "data = []\n",
    "with open(\"raw/BindingDB_All_202402.tsv\") as f:\n",
    "    for line in f:\n",
    "        data.append(line.strip())"
   ]
  },
  {
   "cell_type": "code",
   "execution_count": 3,
   "metadata": {},
   "outputs": [
    {
     "data": {
      "text/plain": [
       "['BindingDB Reactant_set_id\\tLigand SMILES\\tLigand InChI\\tLigand InChI Key\\tBindingDB MonomerID\\tBindingDB Ligand Name\\tTarget Name\\tTarget Source Organism According to Curator or DataSource\\tKi (nM)\\tIC50 (nM)\\tKd (nM)\\tEC50 (nM)\\tkon (M-1-s-1)\\tkoff (s-1)\\tpH\\tTemp (C)\\tCuration/DataSource\\tArticle DOI\\tBindingDB Entry DOI\\tPMID\\tPubChem AID\\tPatent Number\\tAuthors\\tInstitution\\tLink to Ligand in BindingDB\\tLink to Target in BindingDB\\tLink to Ligand-Target Pair in BindingDB\\tLigand HET ID in PDB\\tPDB ID(s) for Ligand-Target Complex\\tPubChem CID\\tPubChem SID\\tChEBI ID of Ligand\\tChEMBL ID of Ligand\\tDrugBank ID of Ligand\\tIUPHAR_GRAC ID of Ligand\\tKEGG ID of Ligand\\tZINC ID of Ligand\\tNumber of Protein Chains in Target (>1 implies a multichain complex)\\tBindingDB Target Chain Sequence\\tPDB ID(s) of Target Chain\\tUniProt (SwissProt) Recommended Name of Target Chain\\tUniProt (SwissProt) Entry Name of Target Chain\\tUniProt (SwissProt) Primary ID of Target Chain\\tUniProt (SwissProt) Secondary ID(s) of Target Chain\\tUniProt (SwissProt) Alternative ID(s) of Target Chain\\tUniProt (TrEMBL) Submitted Name of Target Chain\\tUniProt (TrEMBL) Entry Name of Target Chain\\tUniProt (TrEMBL) Primary ID of Target Chain\\tUniProt (TrEMBL) Secondary ID(s) of Target Chain\\tUniProt (TrEMBL) Alternative ID(s) of Target Chain\\tBindingDB Target Chain Sequence\\tPDB ID(s) of Target Chain\\tUniProt (SwissProt) Recommended Name of Target Chain\\tUniProt (SwissProt) Entry Name of Target Chain\\tUniProt (SwissProt) Primary ID of Target Chain\\tUniProt (SwissProt) Secondary ID(s) of Target Chain\\tUniProt (SwissProt) Alternative ID(s) of Target Chain\\tUniProt (TrEMBL) Submitted Name of Target Chain\\tUniProt (TrEMBL) Entry Name of Target Chain\\tUniProt (TrEMBL) Primary ID of Target Chain\\tUniProt (TrEMBL) Secondary ID(s) of Target Chain\\tUniProt (TrEMBL) Alternative ID(s) of Target Chain\\tBindingDB Target Chain Sequence\\tPDB ID(s) of Target Chain\\tUniProt (SwissProt) Recommended Name of Target Chain\\tUniProt (SwissProt) Entry Name of Target Chain\\tUniProt (SwissProt) Primary ID of Target Chain\\tUniProt (SwissProt) Secondary ID(s) of Target Chain\\tUniProt (SwissProt) Alternative ID(s) of Target Chain\\tUniProt (TrEMBL) Submitted Name of Target Chain\\tUniProt (TrEMBL) Entry Name of Target Chain\\tUniProt (TrEMBL) Primary ID of Target Chain\\tUniProt (TrEMBL) Secondary ID(s) of Target Chain\\tUniProt (TrEMBL) Alternative ID(s) of Target Chain\\tBindingDB Target Chain Sequence\\tPDB ID(s) of Target Chain\\tUniProt (SwissProt) Recommended Name of Target Chain\\tUniProt (SwissProt) Entry Name of Target Chain\\tUniProt (SwissProt) Primary ID of Target Chain\\tUniProt (SwissProt) Secondary ID(s) of Target Chain\\tUniProt (SwissProt) Alternative ID(s) of Target Chain\\tUniProt (TrEMBL) Submitted Name of Target Chain\\tUniProt (TrEMBL) Entry Name of Target Chain\\tUniProt (TrEMBL) Primary ID of Target Chain\\tUniProt (TrEMBL) Secondary ID(s) of Target Chain\\tUniProt (TrEMBL) Alternative ID(s) of Target Chain\\tBindingDB Target Chain Sequence\\tPDB ID(s) of Target Chain\\tUniProt (SwissProt) Recommended Name of Target Chain\\tUniProt (SwissProt) Entry Name of Target Chain\\tUniProt (SwissProt) Primary ID of Target Chain\\tUniProt (SwissProt) Secondary ID(s) of Target Chain\\tUniProt (SwissProt) Alternative ID(s) of Target Chain\\tUniProt (TrEMBL) Submitted Name of Target Chain\\tUniProt (TrEMBL) Entry Name of Target Chain\\tUniProt (TrEMBL) Primary ID of Target Chain\\tUniProt (TrEMBL) Secondary ID(s) of Target Chain\\tUniProt (TrEMBL) Alternative ID(s) of Target Chain\\tBindingDB Target Chain Sequence\\tPDB ID(s) of Target Chain\\tUniProt (SwissProt) Recommended Name of Target Chain\\tUniProt (SwissProt) Entry Name of Target Chain\\tUniProt (SwissProt) Primary ID of Target Chain\\tUniProt (SwissProt) Secondary ID(s) of Target Chain\\tUniProt (SwissProt) Alternative ID(s) of Target Chain\\tUniProt (TrEMBL) Submitted Name of Target Chain\\tUniProt (TrEMBL) Entry Name of Target Chain\\tUniProt (TrEMBL) Primary ID of Target Chain\\tUniProt (TrEMBL) Secondary ID(s) of Target Chain\\tUniProt (TrEMBL) Alternative ID(s) of Target Chain\\tBindingDB Target Chain Sequence\\tPDB ID(s) of Target Chain\\tUniProt (SwissProt) Recommended Name of Target Chain\\tUniProt (SwissProt) Entry Name of Target Chain\\tUniProt (SwissProt) Primary ID of Target Chain\\tUniProt (SwissProt) Secondary ID(s) of Target Chain\\tUniProt (SwissProt) Alternative ID(s) of Target Chain\\tUniProt (TrEMBL) Submitted Name of Target Chain\\tUniProt (TrEMBL) Entry Name of Target Chain\\tUniProt (TrEMBL) Primary ID of Target Chain\\tUniProt (TrEMBL) Secondary ID(s) of Target Chain\\tUniProt (TrEMBL) Alternative ID(s) of Target Chain\\tBindingDB Target Chain Sequence\\tPDB ID(s) of Target Chain\\tUniProt (SwissProt) Recommended Name of Target Chain\\tUniProt (SwissProt) Entry Name of Target Chain\\tUniProt (SwissProt) Primary ID of Target Chain\\tUniProt (SwissProt) Secondary ID(s) of Target Chain\\tUniProt (SwissProt) Alternative ID(s) of Target Chain\\tUniProt (TrEMBL) Submitted Name of Target Chain\\tUniProt (TrEMBL) Entry Name of Target Chain\\tUniProt (TrEMBL) Primary ID of Target Chain\\tUniProt (TrEMBL) Secondary ID(s) of Target Chain\\tUniProt (TrEMBL) Alternative ID(s) of Target Chain\\tBindingDB Target Chain Sequence\\tPDB ID(s) of Target Chain\\tUniProt (SwissProt) Recommended Name of Target Chain\\tUniProt (SwissProt) Entry Name of Target Chain\\tUniProt (SwissProt) Primary ID of Target Chain\\tUniProt (SwissProt) Secondary ID(s) of Target Chain\\tUniProt (SwissProt) Alternative ID(s) of Target Chain\\tUniProt (TrEMBL) Submitted Name of Target Chain\\tUniProt (TrEMBL) Entry Name of Target Chain\\tUniProt (TrEMBL) Primary ID of Target Chain\\tUniProt (TrEMBL) Secondary ID(s) of Target Chain\\tUniProt (TrEMBL) Alternative ID(s) of Target Chain\\tBindingDB Target Chain Sequence\\tPDB ID(s) of Target Chain\\tUniProt (SwissProt) Recommended Name of Target Chain\\tUniProt (SwissProt) Entry Name of Target Chain\\tUniProt (SwissProt) Primary ID of Target Chain\\tUniProt (SwissProt) Secondary ID(s) of Target Chain\\tUniProt (SwissProt) Alternative ID(s) of Target Chain\\tUniProt (TrEMBL) Submitted Name of Target Chain\\tUniProt (TrEMBL) Entry Name of Target Chain\\tUniProt (TrEMBL) Primary ID of Target Chain\\tUniProt (TrEMBL) Secondary ID(s) of Target Chain\\tUniProt (TrEMBL) Alternative ID(s) of Target Chain\\tBindingDB Target Chain Sequence\\tPDB ID(s) of Target Chain\\tUniProt (SwissProt) Recommended Name of Target Chain\\tUniProt (SwissProt) Entry Name of Target Chain\\tUniProt (SwissProt) Primary ID of Target Chain\\tUniProt (SwissProt) Secondary ID(s) of Target Chain\\tUniProt (SwissProt) Alternative ID(s) of Target Chain\\tUniProt (TrEMBL) Submitted Name of Target Chain\\tUniProt (TrEMBL) Entry Name of Target Chain\\tUniProt (TrEMBL) Primary ID of Target Chain\\tUniProt (TrEMBL) Secondary ID(s) of Target Chain\\tUniProt (TrEMBL) Alternative ID(s) of Target Chain\\tBindingDB Target Chain Sequence\\tPDB ID(s) of Target Chain\\tUniProt (SwissProt) Recommended Name of Target Chain\\tUniProt (SwissProt) Entry Name of Target Chain\\tUniProt (SwissProt) Primary ID of Target Chain\\tUniProt (SwissProt) Secondary ID(s) of Target Chain\\tUniProt (SwissProt) Alternative ID(s) of Target Chain\\tUniProt (TrEMBL) Submitted Name of Target Chain\\tUniProt (TrEMBL) Entry Name of Target Chain\\tUniProt (TrEMBL) Primary ID of Target Chain\\tUniProt (TrEMBL) Secondary ID(s) of Target Chain\\tUniProt (TrEMBL) Alternative ID(s) of Target Chain\\tBindingDB Target Chain Sequence\\tPDB ID(s) of Target Chain\\tUniProt (SwissProt) Recommended Name of Target Chain\\tUniProt (SwissProt) Entry Name of Target Chain\\tUniProt (SwissProt) Primary ID of Target Chain\\tUniProt (SwissProt) Secondary ID(s) of Target Chain\\tUniProt (SwissProt) Alternative ID(s) of Target Chain\\tUniProt (TrEMBL) Submitted Name of Target Chain\\tUniProt (TrEMBL) Entry Name of Target Chain\\tUniProt (TrEMBL) Primary ID of Target Chain\\tUniProt (TrEMBL) Secondary ID(s) of Target Chain\\tUniProt (TrEMBL) Alternative ID(s) of Target Chain',\n",
       " '1\\tO[C@@H]1[C@@H](O)[C@@H](Cc2ccccc2)N(CCCCCC(O)=O)C(=O)N(CCCCCC(O)=O)[C@@H]1Cc1ccccc1\\tInChI=1S/C31H42N2O7/c34-27(35)17-9-3-11-19-32-25(21-23-13-5-1-6-14-23)29(38)30(39)26(22-24-15-7-2-8-16-24)33(31(32)40)20-12-4-10-18-28(36)37/h1-2,5-8,13-16,25-26,29-30,38-39H,3-4,9-12,17-22H2,(H,34,35)(H,36,37)/t25-,26-,29+,30+/m1/s1\\tXGEGDSLAQZJGCW-HHGOQMMWSA-N\\t608734\\t6-[(4R,5S,6S,7R)-4,7-dibenzyl-3-(5-carboxypentyl)-5,6-dihydroxy-2-oxo-1,3-diazepan-1-yl]hexanoic acid::DMPC Cyclic Urea 1\\tDimer of Gag-Pol polyprotein [501-599]\\tHuman immunodeficiency virus 1\\t 0.24\\t\\t\\t\\t\\t\\t5.5\\t37.00 C\\tCurated from the literature by BindingDB\\t10.1021/jm9602571\\t10.7270/Q2ZW1J3M\\t8784449\\taid1795214\\t\\tLam, PY; Ru, Y; Jadhav, PK; Aldrich, PE; DeLucca, GV; Eyermann, CJ; Chang, CH; Emmett, G; Holler, ER; Daneker, WF; Li, L; Confalone, PN; McHugh, RJ; Han, Q; Li, R; Markwalder, JA; Seitz, SP; Sharpe, TR; Bacheler, LT; Rayner, MM; Klabe, RM; Shum, L; Winslow, DL; Kornhauser, DM; Hodge, CN\\tDuPont Pharmaceuticals Company\\thttp://www.bindingdb.org/bind/chemsearch/marvin/MolStructure.jsp?monomerid=608734\\thttp://www.bindingdb.org/jsp/dbsearch/PrimarySearch_ki.jsp?energyterm=kJ/mole&tag=com&complexid=56&target=Dimer+of+Gag-Pol+polyprotein+%5B501-599%5D&column=ki&startPg=0&Increment=50&submit=Search\\thttp://www.bindingdb.org/jsp/dbsearch/PrimarySearch_ki.jsp?energyterm=kJ/mole&tag=r21&monomerid=608734&enzyme=Dimer+of+Gag-Pol+polyprotein+%5B501-599%5D&column=ki&startPg=0&Increment=50&submit=Search\\t\\t\\t3009304\\t483500124\\t\\t\\t\\t\\t\\t\\t1\\tPQITLWQRPLVTIKIGGQLKEALLDTGADDTVLEEMSLPGRWKPKMIGGIGGFIKVRQYDQILIEICGHKAIGTVLVGPTPVNIIGRNLLTQIGCTLNF\\t1C70,1D4H,1D4I,1D4J,1DIF,1EBW,1EBZ,1EC0,1EC1,1EC2,1EC3,1FQX,1G2K,1G35,1GNO,1HBV,1HHP,1HIH,1HOS,1HPS,1HPV,1HPX,1HSG,1HTE,1HTF,1HTG,1HVC,1HVI,1HVJ,1HVK,1HVL,1IIQ,1M0B,1MUI,1NH0,1NPA,1NPV,1NPW,1OHR,1SGU,1SH9,1SP5,1T7K,1U8G,1UPJ,1W5V,1W5W,1W5X,1W5Y,1WBK,1WBM,1XL2,1XL5,1YT9,1ZSF,1ZSR,2A4F,2AQU,2B7Z,2BB9,2BBB,2BPV,2BPW,2BPX,2BPY,2BPZ,2BQV,2CEJ,2CEM,2CEN,2FDE,2JE4,2PQZ,2PWC,2PWR,2QNN,2QNP,2QNQ,2UPJ,2UXZ,2UY0,2WKZ,2ZGA,3BGB,3BGC,3BHE,3BXR,3CKT,3GGA,3GGV,3GGX,3PHV,3PSU,3T11,3U71,4DQC,4DQE,4DQF,4DQG,4EQ0,4EQJ,4FE6,4HLA,4I8W,4I8Z,5TYR,5TYS,6D0D,6D0E,6OPV,6UWB,6UWC,7UPJ,8CI7\\tGag-Pol polyprotein\\tPOL_HV1BR\\tP03367',\n",
       " '2\\tO[C@@H]1[C@@H](O)[C@@H](Cc2ccccc2)N(C\\\\C=C\\\\c2cn[nH]c2)C(=O)N(C\\\\C=C\\\\c2cn[nH]c2)[C@@H]1Cc1ccccc1\\tInChI=1S/C31H34N6O3/c38-29-27(17-23-9-3-1-4-10-23)36(15-7-13-25-19-32-33-20-25)31(40)37(16-8-14-26-21-34-35-22-26)28(30(29)39)18-24-11-5-2-6-12-24/h1-14,19-22,27-30,38-39H,15-18H2,(H,32,33)(H,34,35)/b13-7+,14-8+/t27-,28-,29+,30+/m1/s1\\tUZLMEAPBHYEHAC-UNTBESQGSA-N\\t22\\t(4R,5S,6S,7R)-4,7-dibenzyl-5,6-dihydroxy-1,3-bis[(2E)-3-(1H-pyrazol-4-yl)prop-2-en-1-yl]-1,3-diazepan-2-one::DMPC Cyclic Urea 2\\tDimer of Gag-Pol polyprotein [501-599]\\tHuman immunodeficiency virus 1\\t 0.25\\t\\t\\t\\t\\t\\t5.5\\t37.00 C\\tCurated from the literature by BindingDB\\t10.1021/jm9602571\\t10.7270/Q2ZW1J3M\\t8784449\\taid1795214\\t\\tLam, PY; Ru, Y; Jadhav, PK; Aldrich, PE; DeLucca, GV; Eyermann, CJ; Chang, CH; Emmett, G; Holler, ER; Daneker, WF; Li, L; Confalone, PN; McHugh, RJ; Han, Q; Li, R; Markwalder, JA; Seitz, SP; Sharpe, TR; Bacheler, LT; Rayner, MM; Klabe, RM; Shum, L; Winslow, DL; Kornhauser, DM; Hodge, CN\\tDuPont Pharmaceuticals Company\\thttp://www.bindingdb.org/bind/chemsearch/marvin/MolStructure.jsp?monomerid=22\\thttp://www.bindingdb.org/jsp/dbsearch/PrimarySearch_ki.jsp?energyterm=kJ/mole&tag=com&complexid=56&target=Dimer+of+Gag-Pol+polyprotein+%5B501-599%5D&column=ki&startPg=0&Increment=50&submit=Search\\thttp://www.bindingdb.org/jsp/dbsearch/PrimarySearch_ki.jsp?energyterm=kJ/mole&tag=r21&monomerid=22&enzyme=Dimer+of+Gag-Pol+polyprotein+%5B501-599%5D&column=ki&startPg=0&Increment=50&submit=Search\\t\\t\\t5327236\\t8030010\\t\\t\\t\\t\\t\\tZINC03948988\\t1\\tPQITLWQRPLVTIKIGGQLKEALLDTGADDTVLEEMSLPGRWKPKMIGGIGGFIKVRQYDQILIEICGHKAIGTVLVGPTPVNIIGRNLLTQIGCTLNF\\t1C70,1D4H,1D4I,1D4J,1DIF,1EBW,1EBZ,1EC0,1EC1,1EC2,1EC3,1FQX,1G2K,1G35,1GNO,1HBV,1HHP,1HIH,1HOS,1HPS,1HPV,1HPX,1HSG,1HTE,1HTF,1HTG,1HVC,1HVI,1HVJ,1HVK,1HVL,1IIQ,1M0B,1MUI,1NH0,1NPA,1NPV,1NPW,1OHR,1SGU,1SH9,1SP5,1T7K,1U8G,1UPJ,1W5V,1W5W,1W5X,1W5Y,1WBK,1WBM,1XL2,1XL5,1YT9,1ZSF,1ZSR,2A4F,2AQU,2B7Z,2BB9,2BBB,2BPV,2BPW,2BPX,2BPY,2BPZ,2BQV,2CEJ,2CEM,2CEN,2FDE,2JE4,2PQZ,2PWC,2PWR,2QNN,2QNP,2QNQ,2UPJ,2UXZ,2UY0,2WKZ,2ZGA,3BGB,3BGC,3BHE,3BXR,3CKT,3GGA,3GGV,3GGX,3PHV,3PSU,3T11,3U71,4DQC,4DQE,4DQF,4DQG,4EQ0,4EQJ,4FE6,4HLA,4I8W,4I8Z,5TYR,5TYS,6D0D,6D0E,6OPV,6UWB,6UWC,7UPJ,8CI7\\tGag-Pol polyprotein\\tPOL_HV1BR\\tP03367',\n",
       " '3\\tO[C@@H]1[C@@H](O)[C@@H](Cc2ccccc2)N(CC2CC2)C(=O)N(C\\\\C=C\\\\c2cn[nH]c2)[C@@H]1Cc1ccccc1\\tInChI=1S/C29H34N4O3/c34-27-25(16-21-8-3-1-4-9-21)32(15-7-12-24-18-30-31-19-24)29(36)33(20-23-13-14-23)26(28(27)35)17-22-10-5-2-6-11-22/h1-12,18-19,23,25-28,34-35H,13-17,20H2,(H,30,31)/b12-7+/t25-,26-,27+,28+/m1/s1\\tHYNYUFZPPJMPOB-UTWJFGBXSA-N\\t23\\t(4R,5S,6S,7R)-4,7-dibenzyl-1-(cyclopropylmethyl)-5,6-dihydroxy-3-[(2E)-3-(1H-pyrazol-4-yl)prop-2-en-1-yl]-1,3-diazepan-2-one::DMPC Cyclic Urea 3\\tDimer of Gag-Pol polyprotein [501-599]\\tHuman immunodeficiency virus 1\\t 0.41\\t\\t\\t\\t\\t\\t5.5\\t37.00 C\\tCurated from the literature by BindingDB\\t10.1021/jm9602571\\t10.7270/Q2ZW1J3M\\t8784449\\taid1795214\\t\\tLam, PY; Ru, Y; Jadhav, PK; Aldrich, PE; DeLucca, GV; Eyermann, CJ; Chang, CH; Emmett, G; Holler, ER; Daneker, WF; Li, L; Confalone, PN; McHugh, RJ; Han, Q; Li, R; Markwalder, JA; Seitz, SP; Sharpe, TR; Bacheler, LT; Rayner, MM; Klabe, RM; Shum, L; Winslow, DL; Kornhauser, DM; Hodge, CN\\tDuPont Pharmaceuticals Company\\thttp://www.bindingdb.org/bind/chemsearch/marvin/MolStructure.jsp?monomerid=23\\thttp://www.bindingdb.org/jsp/dbsearch/PrimarySearch_ki.jsp?energyterm=kJ/mole&tag=com&complexid=56&target=Dimer+of+Gag-Pol+polyprotein+%5B501-599%5D&column=ki&startPg=0&Increment=50&submit=Search\\thttp://www.bindingdb.org/jsp/dbsearch/PrimarySearch_ki.jsp?energyterm=kJ/mole&tag=r21&monomerid=23&enzyme=Dimer+of+Gag-Pol+polyprotein+%5B501-599%5D&column=ki&startPg=0&Increment=50&submit=Search\\t\\t\\t5327235\\t8030008\\t\\t\\t\\t\\t\\tZINC03826079\\t1\\tPQITLWQRPLVTIKIGGQLKEALLDTGADDTVLEEMSLPGRWKPKMIGGIGGFIKVRQYDQILIEICGHKAIGTVLVGPTPVNIIGRNLLTQIGCTLNF\\t1C70,1D4H,1D4I,1D4J,1DIF,1EBW,1EBZ,1EC0,1EC1,1EC2,1EC3,1FQX,1G2K,1G35,1GNO,1HBV,1HHP,1HIH,1HOS,1HPS,1HPV,1HPX,1HSG,1HTE,1HTF,1HTG,1HVC,1HVI,1HVJ,1HVK,1HVL,1IIQ,1M0B,1MUI,1NH0,1NPA,1NPV,1NPW,1OHR,1SGU,1SH9,1SP5,1T7K,1U8G,1UPJ,1W5V,1W5W,1W5X,1W5Y,1WBK,1WBM,1XL2,1XL5,1YT9,1ZSF,1ZSR,2A4F,2AQU,2B7Z,2BB9,2BBB,2BPV,2BPW,2BPX,2BPY,2BPZ,2BQV,2CEJ,2CEM,2CEN,2FDE,2JE4,2PQZ,2PWC,2PWR,2QNN,2QNP,2QNQ,2UPJ,2UXZ,2UY0,2WKZ,2ZGA,3BGB,3BGC,3BHE,3BXR,3CKT,3GGA,3GGV,3GGX,3PHV,3PSU,3T11,3U71,4DQC,4DQE,4DQF,4DQG,4EQ0,4EQJ,4FE6,4HLA,4I8W,4I8Z,5TYR,5TYS,6D0D,6D0E,6OPV,6UWB,6UWC,7UPJ,8CI7\\tGag-Pol polyprotein\\tPOL_HV1BR\\tP03367',\n",
       " '4\\tOCCCCCCN1[C@H](Cc2ccccc2)[C@H](O)[C@@H](O)[C@@H](Cc2ccccc2)N(CC2CC2)C1=O\\tInChI=1S/C29H40N2O4/c32-18-10-2-1-9-17-30-25(19-22-11-5-3-6-12-22)27(33)28(34)26(20-23-13-7-4-8-14-23)31(29(30)35)21-24-15-16-24/h3-8,11-14,24-28,32-34H,1-2,9-10,15-21H2/t25-,26-,27+,28+/m1/s1\\tYXVAZXDWVZTGGD-VIJSPRBVSA-N\\t24\\t(4R,5S,6S,7R)-4,7-dibenzyl-1-(cyclopropylmethyl)-5,6-dihydroxy-3-(6-hydroxyhexyl)-1,3-diazepan-2-one::DMPC Cyclic Urea 4\\tDimer of Gag-Pol polyprotein [501-599]\\tHuman immunodeficiency virus 1\\t 0.8\\t\\t\\t\\t\\t\\t5.5\\t37.00 C\\tCurated from the literature by BindingDB\\t10.1021/jm9602571\\t10.7270/Q2ZW1J3M\\t8784449\\taid1795214\\t\\tLam, PY; Ru, Y; Jadhav, PK; Aldrich, PE; DeLucca, GV; Eyermann, CJ; Chang, CH; Emmett, G; Holler, ER; Daneker, WF; Li, L; Confalone, PN; McHugh, RJ; Han, Q; Li, R; Markwalder, JA; Seitz, SP; Sharpe, TR; Bacheler, LT; Rayner, MM; Klabe, RM; Shum, L; Winslow, DL; Kornhauser, DM; Hodge, CN\\tDuPont Pharmaceuticals Company\\thttp://www.bindingdb.org/bind/chemsearch/marvin/MolStructure.jsp?monomerid=24\\thttp://www.bindingdb.org/jsp/dbsearch/PrimarySearch_ki.jsp?energyterm=kJ/mole&tag=com&complexid=56&target=Dimer+of+Gag-Pol+polyprotein+%5B501-599%5D&column=ki&startPg=0&Increment=50&submit=Search\\thttp://www.bindingdb.org/jsp/dbsearch/PrimarySearch_ki.jsp?energyterm=kJ/mole&tag=r21&monomerid=24&enzyme=Dimer+of+Gag-Pol+polyprotein+%5B501-599%5D&column=ki&startPg=0&Increment=50&submit=Search\\t\\t\\t5327234\\t8030007\\t\\t\\t\\t\\t\\tZINC14907367\\t1\\tPQITLWQRPLVTIKIGGQLKEALLDTGADDTVLEEMSLPGRWKPKMIGGIGGFIKVRQYDQILIEICGHKAIGTVLVGPTPVNIIGRNLLTQIGCTLNF\\t1C70,1D4H,1D4I,1D4J,1DIF,1EBW,1EBZ,1EC0,1EC1,1EC2,1EC3,1FQX,1G2K,1G35,1GNO,1HBV,1HHP,1HIH,1HOS,1HPS,1HPV,1HPX,1HSG,1HTE,1HTF,1HTG,1HVC,1HVI,1HVJ,1HVK,1HVL,1IIQ,1M0B,1MUI,1NH0,1NPA,1NPV,1NPW,1OHR,1SGU,1SH9,1SP5,1T7K,1U8G,1UPJ,1W5V,1W5W,1W5X,1W5Y,1WBK,1WBM,1XL2,1XL5,1YT9,1ZSF,1ZSR,2A4F,2AQU,2B7Z,2BB9,2BBB,2BPV,2BPW,2BPX,2BPY,2BPZ,2BQV,2CEJ,2CEM,2CEN,2FDE,2JE4,2PQZ,2PWC,2PWR,2QNN,2QNP,2QNQ,2UPJ,2UXZ,2UY0,2WKZ,2ZGA,3BGB,3BGC,3BHE,3BXR,3CKT,3GGA,3GGV,3GGX,3PHV,3PSU,3T11,3U71,4DQC,4DQE,4DQF,4DQG,4EQ0,4EQJ,4FE6,4HLA,4I8W,4I8Z,5TYR,5TYS,6D0D,6D0E,6OPV,6UWB,6UWC,7UPJ,8CI7\\tGag-Pol polyprotein\\tPOL_HV1BR\\tP03367']"
      ]
     },
     "execution_count": 3,
     "metadata": {},
     "output_type": "execute_result"
    }
   ],
   "source": [
    "data[:5]"
   ]
  },
  {
   "cell_type": "code",
   "execution_count": null,
   "metadata": {},
   "outputs": [],
   "source": [
    "data[-1]"
   ]
  },
  {
   "cell_type": "code",
   "execution_count": 30,
   "metadata": {},
   "outputs": [
    {
     "name": "stderr",
     "output_type": "stream",
     "text": [
      "/tmp/ipykernel_25186/48867685.py:4: DtypeWarning: Columns (9) have mixed types. Specify dtype option on import or set low_memory=False.\n",
      "  df = pd.read_csv(\"raw/BindingDB_All_202402.tsv\", sep='\\t', usecols=columns_to_load)\n"
     ]
    },
    {
     "data": {
      "text/html": [
       "<div>\n",
       "<style scoped>\n",
       "    .dataframe tbody tr th:only-of-type {\n",
       "        vertical-align: middle;\n",
       "    }\n",
       "\n",
       "    .dataframe tbody tr th {\n",
       "        vertical-align: top;\n",
       "    }\n",
       "\n",
       "    .dataframe thead th {\n",
       "        text-align: right;\n",
       "    }\n",
       "</style>\n",
       "<table border=\"1\" class=\"dataframe\">\n",
       "  <thead>\n",
       "    <tr style=\"text-align: right;\">\n",
       "      <th></th>\n",
       "      <th>Ligand SMILES</th>\n",
       "      <th>IC50 (nM)</th>\n",
       "      <th>BindingDB Target Chain Sequence</th>\n",
       "    </tr>\n",
       "  </thead>\n",
       "  <tbody>\n",
       "    <tr>\n",
       "      <th>0</th>\n",
       "      <td>O[C@@H]1[C@@H](O)[C@@H](Cc2ccccc2)N(CCCCCC(O)=...</td>\n",
       "      <td>NaN</td>\n",
       "      <td>PQITLWQRPLVTIKIGGQLKEALLDTGADDTVLEEMSLPGRWKPKM...</td>\n",
       "    </tr>\n",
       "    <tr>\n",
       "      <th>1</th>\n",
       "      <td>O[C@@H]1[C@@H](O)[C@@H](Cc2ccccc2)N(C\\C=C\\c2cn...</td>\n",
       "      <td>NaN</td>\n",
       "      <td>PQITLWQRPLVTIKIGGQLKEALLDTGADDTVLEEMSLPGRWKPKM...</td>\n",
       "    </tr>\n",
       "    <tr>\n",
       "      <th>2</th>\n",
       "      <td>O[C@@H]1[C@@H](O)[C@@H](Cc2ccccc2)N(CC2CC2)C(=...</td>\n",
       "      <td>NaN</td>\n",
       "      <td>PQITLWQRPLVTIKIGGQLKEALLDTGADDTVLEEMSLPGRWKPKM...</td>\n",
       "    </tr>\n",
       "    <tr>\n",
       "      <th>3</th>\n",
       "      <td>OCCCCCCN1[C@H](Cc2ccccc2)[C@H](O)[C@@H](O)[C@@...</td>\n",
       "      <td>NaN</td>\n",
       "      <td>PQITLWQRPLVTIKIGGQLKEALLDTGADDTVLEEMSLPGRWKPKM...</td>\n",
       "    </tr>\n",
       "    <tr>\n",
       "      <th>4</th>\n",
       "      <td>OCCCCCN1[C@H](Cc2ccccc2)[C@H](O)[C@@H](O)[C@@H...</td>\n",
       "      <td>NaN</td>\n",
       "      <td>PQITLWQRPLVTIKIGGQLKEALLDTGADDTVLEEMSLPGRWKPKM...</td>\n",
       "    </tr>\n",
       "  </tbody>\n",
       "</table>\n",
       "</div>"
      ],
      "text/plain": [
       "                                       Ligand SMILES IC50 (nM)  \\\n",
       "0  O[C@@H]1[C@@H](O)[C@@H](Cc2ccccc2)N(CCCCCC(O)=...       NaN   \n",
       "1  O[C@@H]1[C@@H](O)[C@@H](Cc2ccccc2)N(C\\C=C\\c2cn...       NaN   \n",
       "2  O[C@@H]1[C@@H](O)[C@@H](Cc2ccccc2)N(CC2CC2)C(=...       NaN   \n",
       "3  OCCCCCCN1[C@H](Cc2ccccc2)[C@H](O)[C@@H](O)[C@@...       NaN   \n",
       "4  OCCCCCN1[C@H](Cc2ccccc2)[C@H](O)[C@@H](O)[C@@H...       NaN   \n",
       "\n",
       "                     BindingDB Target Chain Sequence  \n",
       "0  PQITLWQRPLVTIKIGGQLKEALLDTGADDTVLEEMSLPGRWKPKM...  \n",
       "1  PQITLWQRPLVTIKIGGQLKEALLDTGADDTVLEEMSLPGRWKPKM...  \n",
       "2  PQITLWQRPLVTIKIGGQLKEALLDTGADDTVLEEMSLPGRWKPKM...  \n",
       "3  PQITLWQRPLVTIKIGGQLKEALLDTGADDTVLEEMSLPGRWKPKM...  \n",
       "4  PQITLWQRPLVTIKIGGQLKEALLDTGADDTVLEEMSLPGRWKPKM...  "
      ]
     },
     "execution_count": 30,
     "metadata": {},
     "output_type": "execute_result"
    }
   ],
   "source": [
    "import pandas as pd\n",
    "\n",
    "columns_to_load = ['Ligand SMILES', 'IC50 (nM)','BindingDB Target Chain Sequence']\n",
    "df = pd.read_csv(\"raw/BindingDB_All_202402.tsv\", sep='\\t', usecols=columns_to_load)\n",
    "df.head()"
   ]
  },
  {
   "cell_type": "code",
   "execution_count": 32,
   "metadata": {},
   "outputs": [
    {
     "data": {
      "text/plain": [
       "948893"
      ]
     },
     "execution_count": 32,
     "metadata": {},
     "output_type": "execute_result"
    }
   ],
   "source": [
    "df['IC50 (nM)'].isna().sum()"
   ]
  },
  {
   "cell_type": "code",
   "execution_count": 33,
   "metadata": {},
   "outputs": [
    {
     "data": {
      "text/plain": [
       "2830770"
      ]
     },
     "execution_count": 33,
     "metadata": {},
     "output_type": "execute_result"
    }
   ],
   "source": [
    "len(df)"
   ]
  },
  {
   "cell_type": "code",
   "execution_count": 36,
   "metadata": {},
   "outputs": [],
   "source": [
    "df.dropna(inplace=True)"
   ]
  },
  {
   "cell_type": "code",
   "execution_count": 40,
   "metadata": {},
   "outputs": [
    {
     "data": {
      "text/html": [
       "<div>\n",
       "<style scoped>\n",
       "    .dataframe tbody tr th:only-of-type {\n",
       "        vertical-align: middle;\n",
       "    }\n",
       "\n",
       "    .dataframe tbody tr th {\n",
       "        vertical-align: top;\n",
       "    }\n",
       "\n",
       "    .dataframe thead th {\n",
       "        text-align: right;\n",
       "    }\n",
       "</style>\n",
       "<table border=\"1\" class=\"dataframe\">\n",
       "  <thead>\n",
       "    <tr style=\"text-align: right;\">\n",
       "      <th></th>\n",
       "      <th>Ligand SMILES</th>\n",
       "      <th>IC50 (nM)</th>\n",
       "      <th>BindingDB Target Chain Sequence</th>\n",
       "    </tr>\n",
       "  </thead>\n",
       "  <tbody>\n",
       "    <tr>\n",
       "      <th>142</th>\n",
       "      <td>Cc1nc(CN2CCN(CC2)c2c(Cl)cnc3[nH]c(nc23)-c2cn(C...</td>\n",
       "      <td>&gt;50000</td>\n",
       "      <td>MALIPDLAMETWLLLAVSLVLLYLYGTHSHGLFKKLGIPGPTPLPF...</td>\n",
       "    </tr>\n",
       "    <tr>\n",
       "      <th>144</th>\n",
       "      <td>O=C1CCCC2=C1C1(CCS(=O)(=O)C1)N=C(Nc1nc3ccccc3o...</td>\n",
       "      <td>6676.9</td>\n",
       "      <td>MAALRQPQVAELLAEARRAFREEFGAEPELAVSAPGRVNLIGEHTD...</td>\n",
       "    </tr>\n",
       "    <tr>\n",
       "      <th>180</th>\n",
       "      <td>CC(C)[C@H](NC(C)=O)C(=O)N[C@@H](Cc1ccccc1)[C@@...</td>\n",
       "      <td>8.5</td>\n",
       "      <td>PQITLWQRPLVTIKIGGQLKEALLDTGADDTVLEEMNLPGRWKPKM...</td>\n",
       "    </tr>\n",
       "    <tr>\n",
       "      <th>181</th>\n",
       "      <td>CCOC(=O)N[C@@H](C(C)C)C(=O)N[C@@H](Cc1ccccc1)[...</td>\n",
       "      <td>177</td>\n",
       "      <td>PQITLWQRPLVTIKIGGQLKEALLDTGADDTVLEEMNLPGRWKPKM...</td>\n",
       "    </tr>\n",
       "    <tr>\n",
       "      <th>183</th>\n",
       "      <td>COCCOC(=O)N[C@@H](C(C)C)C(=O)N[C@@H](Cc1ccccc1...</td>\n",
       "      <td>164</td>\n",
       "      <td>PQITLWQRPLVTIKIGGQLKEALLDTGADDTVLEEMNLPGRWKPKM...</td>\n",
       "    </tr>\n",
       "    <tr>\n",
       "      <th>...</th>\n",
       "      <td>...</td>\n",
       "      <td>...</td>\n",
       "      <td>...</td>\n",
       "    </tr>\n",
       "    <tr>\n",
       "      <th>2830746</th>\n",
       "      <td>COc1ccc2C(=O)c3c(O)c(C)c(O[C@@H]4O[C@H](CO[C@@...</td>\n",
       "      <td>&gt;100000</td>\n",
       "      <td>MPTTIEREFEELDTQRRWQPLYLEIRNESHDYPHRVAKFPENRNRN...</td>\n",
       "    </tr>\n",
       "    <tr>\n",
       "      <th>2830747</th>\n",
       "      <td>Cc1c(O)c2C(=O)c3ccc(O)c(O)c3C(=O)c2cc1O[C@@H]1...</td>\n",
       "      <td>78000</td>\n",
       "      <td>MPTTIEREFEELDTQRRWQPLYLEIRNESHDYPHRVAKFPENRNRN...</td>\n",
       "    </tr>\n",
       "    <tr>\n",
       "      <th>2830748</th>\n",
       "      <td>OC[C@H]1O[C@@H](OCc2c(O)cc3C(=O)c4ccccc4C(=O)c...</td>\n",
       "      <td>&gt;100000</td>\n",
       "      <td>MPTTIEREFEELDTQRRWQPLYLEIRNESHDYPHRVAKFPENRNRN...</td>\n",
       "    </tr>\n",
       "    <tr>\n",
       "      <th>2830749</th>\n",
       "      <td>COc1ccc2C(=O)c3c(O)c(CO)c(O[C@@H]4O[C@H](CO)[C...</td>\n",
       "      <td>&gt;100000</td>\n",
       "      <td>MPTTIEREFEELDTQRRWQPLYLEIRNESHDYPHRVAKFPENRNRN...</td>\n",
       "    </tr>\n",
       "    <tr>\n",
       "      <th>2830750</th>\n",
       "      <td>[O-][V]([O-])([O-])=O</td>\n",
       "      <td>1960</td>\n",
       "      <td>MPTTIEREFEELDTQRRWQPLYLEIRNESHDYPHRVAKFPENRNRN...</td>\n",
       "    </tr>\n",
       "  </tbody>\n",
       "</table>\n",
       "<p>1881877 rows × 3 columns</p>\n",
       "</div>"
      ],
      "text/plain": [
       "                                             Ligand SMILES IC50 (nM)  \\\n",
       "142      Cc1nc(CN2CCN(CC2)c2c(Cl)cnc3[nH]c(nc23)-c2cn(C...    >50000   \n",
       "144      O=C1CCCC2=C1C1(CCS(=O)(=O)C1)N=C(Nc1nc3ccccc3o...    6676.9   \n",
       "180      CC(C)[C@H](NC(C)=O)C(=O)N[C@@H](Cc1ccccc1)[C@@...       8.5   \n",
       "181      CCOC(=O)N[C@@H](C(C)C)C(=O)N[C@@H](Cc1ccccc1)[...       177   \n",
       "183      COCCOC(=O)N[C@@H](C(C)C)C(=O)N[C@@H](Cc1ccccc1...       164   \n",
       "...                                                    ...       ...   \n",
       "2830746  COc1ccc2C(=O)c3c(O)c(C)c(O[C@@H]4O[C@H](CO[C@@...   >100000   \n",
       "2830747  Cc1c(O)c2C(=O)c3ccc(O)c(O)c3C(=O)c2cc1O[C@@H]1...     78000   \n",
       "2830748  OC[C@H]1O[C@@H](OCc2c(O)cc3C(=O)c4ccccc4C(=O)c...   >100000   \n",
       "2830749  COc1ccc2C(=O)c3c(O)c(CO)c(O[C@@H]4O[C@H](CO)[C...   >100000   \n",
       "2830750                              [O-][V]([O-])([O-])=O      1960   \n",
       "\n",
       "                           BindingDB Target Chain Sequence  \n",
       "142      MALIPDLAMETWLLLAVSLVLLYLYGTHSHGLFKKLGIPGPTPLPF...  \n",
       "144      MAALRQPQVAELLAEARRAFREEFGAEPELAVSAPGRVNLIGEHTD...  \n",
       "180      PQITLWQRPLVTIKIGGQLKEALLDTGADDTVLEEMNLPGRWKPKM...  \n",
       "181      PQITLWQRPLVTIKIGGQLKEALLDTGADDTVLEEMNLPGRWKPKM...  \n",
       "183      PQITLWQRPLVTIKIGGQLKEALLDTGADDTVLEEMNLPGRWKPKM...  \n",
       "...                                                    ...  \n",
       "2830746  MPTTIEREFEELDTQRRWQPLYLEIRNESHDYPHRVAKFPENRNRN...  \n",
       "2830747  MPTTIEREFEELDTQRRWQPLYLEIRNESHDYPHRVAKFPENRNRN...  \n",
       "2830748  MPTTIEREFEELDTQRRWQPLYLEIRNESHDYPHRVAKFPENRNRN...  \n",
       "2830749  MPTTIEREFEELDTQRRWQPLYLEIRNESHDYPHRVAKFPENRNRN...  \n",
       "2830750  MPTTIEREFEELDTQRRWQPLYLEIRNESHDYPHRVAKFPENRNRN...  \n",
       "\n",
       "[1881877 rows x 3 columns]"
      ]
     },
     "execution_count": 40,
     "metadata": {},
     "output_type": "execute_result"
    }
   ],
   "source": [
    "df"
   ]
  },
  {
   "cell_type": "code",
   "execution_count": 42,
   "metadata": {},
   "outputs": [
    {
     "data": {
      "text/plain": [
       "3.8245748718492667"
      ]
     },
     "execution_count": 42,
     "metadata": {},
     "output_type": "execute_result"
    }
   ],
   "source": [
    "import numpy as np\n",
    "np.log10(6676.9)"
   ]
  },
  {
   "cell_type": "code",
   "execution_count": null,
   "metadata": {},
   "outputs": [],
   "source": []
  },
  {
   "cell_type": "code",
   "execution_count": 16,
   "metadata": {},
   "outputs": [
    {
     "data": {
      "text/plain": [
       "44"
      ]
     },
     "execution_count": 16,
     "metadata": {},
     "output_type": "execute_result"
    }
   ],
   "source": [
    "len(data[1356263].split(\"\\t\"))"
   ]
  },
  {
   "cell_type": "code",
   "execution_count": 27,
   "metadata": {},
   "outputs": [
    {
     "data": {
      "text/plain": [
       "['BindingDB Reactant_set_id',\n",
       " 'Ligand SMILES',\n",
       " 'Ligand InChI',\n",
       " 'Ligand InChI Key',\n",
       " 'BindingDB MonomerID',\n",
       " 'BindingDB Ligand Name',\n",
       " 'Target Name',\n",
       " 'Target Source Organism According to Curator or DataSource',\n",
       " 'Ki (nM)',\n",
       " 'IC50 (nM)',\n",
       " 'Kd (nM)',\n",
       " 'EC50 (nM)',\n",
       " 'kon (M-1-s-1)',\n",
       " 'koff (s-1)',\n",
       " 'pH',\n",
       " 'Temp (C)',\n",
       " 'Curation/DataSource',\n",
       " 'Article DOI',\n",
       " 'BindingDB Entry DOI',\n",
       " 'PMID',\n",
       " 'PubChem AID',\n",
       " 'Patent Number',\n",
       " 'Authors',\n",
       " 'Institution',\n",
       " 'Link to Ligand in BindingDB',\n",
       " 'Link to Target in BindingDB',\n",
       " 'Link to Ligand-Target Pair in BindingDB',\n",
       " 'Ligand HET ID in PDB',\n",
       " 'PDB ID(s) for Ligand-Target Complex',\n",
       " 'PubChem CID',\n",
       " 'PubChem SID',\n",
       " 'ChEBI ID of Ligand',\n",
       " 'ChEMBL ID of Ligand',\n",
       " 'DrugBank ID of Ligand',\n",
       " 'IUPHAR_GRAC ID of Ligand',\n",
       " 'KEGG ID of Ligand',\n",
       " 'ZINC ID of Ligand',\n",
       " 'Number of Protein Chains in Target (>1 implies a multichain complex)',\n",
       " 'BindingDB Target Chain Sequence',\n",
       " 'PDB ID(s) of Target Chain',\n",
       " 'UniProt (SwissProt) Recommended Name of Target Chain',\n",
       " 'UniProt (SwissProt) Entry Name of Target Chain',\n",
       " 'UniProt (SwissProt) Primary ID of Target Chain',\n",
       " 'UniProt (SwissProt) Secondary ID(s) of Target Chain',\n",
       " 'UniProt (SwissProt) Alternative ID(s) of Target Chain',\n",
       " 'UniProt (TrEMBL) Submitted Name of Target Chain',\n",
       " 'UniProt (TrEMBL) Entry Name of Target Chain',\n",
       " 'UniProt (TrEMBL) Primary ID of Target Chain',\n",
       " 'UniProt (TrEMBL) Secondary ID(s) of Target Chain',\n",
       " 'UniProt (TrEMBL) Alternative ID(s) of Target Chain',\n",
       " 'BindingDB Target Chain Sequence',\n",
       " 'PDB ID(s) of Target Chain',\n",
       " 'UniProt (SwissProt) Recommended Name of Target Chain',\n",
       " 'UniProt (SwissProt) Entry Name of Target Chain',\n",
       " 'UniProt (SwissProt) Primary ID of Target Chain',\n",
       " 'UniProt (SwissProt) Secondary ID(s) of Target Chain',\n",
       " 'UniProt (SwissProt) Alternative ID(s) of Target Chain',\n",
       " 'UniProt (TrEMBL) Submitted Name of Target Chain',\n",
       " 'UniProt (TrEMBL) Entry Name of Target Chain',\n",
       " 'UniProt (TrEMBL) Primary ID of Target Chain',\n",
       " 'UniProt (TrEMBL) Secondary ID(s) of Target Chain',\n",
       " 'UniProt (TrEMBL) Alternative ID(s) of Target Chain',\n",
       " 'BindingDB Target Chain Sequence',\n",
       " 'PDB ID(s) of Target Chain',\n",
       " 'UniProt (SwissProt) Recommended Name of Target Chain',\n",
       " 'UniProt (SwissProt) Entry Name of Target Chain',\n",
       " 'UniProt (SwissProt) Primary ID of Target Chain',\n",
       " 'UniProt (SwissProt) Secondary ID(s) of Target Chain',\n",
       " 'UniProt (SwissProt) Alternative ID(s) of Target Chain',\n",
       " 'UniProt (TrEMBL) Submitted Name of Target Chain',\n",
       " 'UniProt (TrEMBL) Entry Name of Target Chain',\n",
       " 'UniProt (TrEMBL) Primary ID of Target Chain',\n",
       " 'UniProt (TrEMBL) Secondary ID(s) of Target Chain',\n",
       " 'UniProt (TrEMBL) Alternative ID(s) of Target Chain',\n",
       " 'BindingDB Target Chain Sequence',\n",
       " 'PDB ID(s) of Target Chain',\n",
       " 'UniProt (SwissProt) Recommended Name of Target Chain',\n",
       " 'UniProt (SwissProt) Entry Name of Target Chain',\n",
       " 'UniProt (SwissProt) Primary ID of Target Chain',\n",
       " 'UniProt (SwissProt) Secondary ID(s) of Target Chain',\n",
       " 'UniProt (SwissProt) Alternative ID(s) of Target Chain',\n",
       " 'UniProt (TrEMBL) Submitted Name of Target Chain',\n",
       " 'UniProt (TrEMBL) Entry Name of Target Chain',\n",
       " 'UniProt (TrEMBL) Primary ID of Target Chain',\n",
       " 'UniProt (TrEMBL) Secondary ID(s) of Target Chain',\n",
       " 'UniProt (TrEMBL) Alternative ID(s) of Target Chain',\n",
       " 'BindingDB Target Chain Sequence',\n",
       " 'PDB ID(s) of Target Chain',\n",
       " 'UniProt (SwissProt) Recommended Name of Target Chain',\n",
       " 'UniProt (SwissProt) Entry Name of Target Chain',\n",
       " 'UniProt (SwissProt) Primary ID of Target Chain',\n",
       " 'UniProt (SwissProt) Secondary ID(s) of Target Chain',\n",
       " 'UniProt (SwissProt) Alternative ID(s) of Target Chain',\n",
       " 'UniProt (TrEMBL) Submitted Name of Target Chain',\n",
       " 'UniProt (TrEMBL) Entry Name of Target Chain',\n",
       " 'UniProt (TrEMBL) Primary ID of Target Chain',\n",
       " 'UniProt (TrEMBL) Secondary ID(s) of Target Chain',\n",
       " 'UniProt (TrEMBL) Alternative ID(s) of Target Chain',\n",
       " 'BindingDB Target Chain Sequence',\n",
       " 'PDB ID(s) of Target Chain',\n",
       " 'UniProt (SwissProt) Recommended Name of Target Chain',\n",
       " 'UniProt (SwissProt) Entry Name of Target Chain',\n",
       " 'UniProt (SwissProt) Primary ID of Target Chain',\n",
       " 'UniProt (SwissProt) Secondary ID(s) of Target Chain',\n",
       " 'UniProt (SwissProt) Alternative ID(s) of Target Chain',\n",
       " 'UniProt (TrEMBL) Submitted Name of Target Chain',\n",
       " 'UniProt (TrEMBL) Entry Name of Target Chain',\n",
       " 'UniProt (TrEMBL) Primary ID of Target Chain',\n",
       " 'UniProt (TrEMBL) Secondary ID(s) of Target Chain',\n",
       " 'UniProt (TrEMBL) Alternative ID(s) of Target Chain',\n",
       " 'BindingDB Target Chain Sequence',\n",
       " 'PDB ID(s) of Target Chain',\n",
       " 'UniProt (SwissProt) Recommended Name of Target Chain',\n",
       " 'UniProt (SwissProt) Entry Name of Target Chain',\n",
       " 'UniProt (SwissProt) Primary ID of Target Chain',\n",
       " 'UniProt (SwissProt) Secondary ID(s) of Target Chain',\n",
       " 'UniProt (SwissProt) Alternative ID(s) of Target Chain',\n",
       " 'UniProt (TrEMBL) Submitted Name of Target Chain',\n",
       " 'UniProt (TrEMBL) Entry Name of Target Chain',\n",
       " 'UniProt (TrEMBL) Primary ID of Target Chain',\n",
       " 'UniProt (TrEMBL) Secondary ID(s) of Target Chain',\n",
       " 'UniProt (TrEMBL) Alternative ID(s) of Target Chain',\n",
       " 'BindingDB Target Chain Sequence',\n",
       " 'PDB ID(s) of Target Chain',\n",
       " 'UniProt (SwissProt) Recommended Name of Target Chain',\n",
       " 'UniProt (SwissProt) Entry Name of Target Chain',\n",
       " 'UniProt (SwissProt) Primary ID of Target Chain',\n",
       " 'UniProt (SwissProt) Secondary ID(s) of Target Chain',\n",
       " 'UniProt (SwissProt) Alternative ID(s) of Target Chain',\n",
       " 'UniProt (TrEMBL) Submitted Name of Target Chain',\n",
       " 'UniProt (TrEMBL) Entry Name of Target Chain',\n",
       " 'UniProt (TrEMBL) Primary ID of Target Chain',\n",
       " 'UniProt (TrEMBL) Secondary ID(s) of Target Chain',\n",
       " 'UniProt (TrEMBL) Alternative ID(s) of Target Chain',\n",
       " 'BindingDB Target Chain Sequence',\n",
       " 'PDB ID(s) of Target Chain',\n",
       " 'UniProt (SwissProt) Recommended Name of Target Chain',\n",
       " 'UniProt (SwissProt) Entry Name of Target Chain',\n",
       " 'UniProt (SwissProt) Primary ID of Target Chain',\n",
       " 'UniProt (SwissProt) Secondary ID(s) of Target Chain',\n",
       " 'UniProt (SwissProt) Alternative ID(s) of Target Chain',\n",
       " 'UniProt (TrEMBL) Submitted Name of Target Chain',\n",
       " 'UniProt (TrEMBL) Entry Name of Target Chain',\n",
       " 'UniProt (TrEMBL) Primary ID of Target Chain',\n",
       " 'UniProt (TrEMBL) Secondary ID(s) of Target Chain',\n",
       " 'UniProt (TrEMBL) Alternative ID(s) of Target Chain',\n",
       " 'BindingDB Target Chain Sequence',\n",
       " 'PDB ID(s) of Target Chain',\n",
       " 'UniProt (SwissProt) Recommended Name of Target Chain',\n",
       " 'UniProt (SwissProt) Entry Name of Target Chain',\n",
       " 'UniProt (SwissProt) Primary ID of Target Chain',\n",
       " 'UniProt (SwissProt) Secondary ID(s) of Target Chain',\n",
       " 'UniProt (SwissProt) Alternative ID(s) of Target Chain',\n",
       " 'UniProt (TrEMBL) Submitted Name of Target Chain',\n",
       " 'UniProt (TrEMBL) Entry Name of Target Chain',\n",
       " 'UniProt (TrEMBL) Primary ID of Target Chain',\n",
       " 'UniProt (TrEMBL) Secondary ID(s) of Target Chain',\n",
       " 'UniProt (TrEMBL) Alternative ID(s) of Target Chain',\n",
       " 'BindingDB Target Chain Sequence',\n",
       " 'PDB ID(s) of Target Chain',\n",
       " 'UniProt (SwissProt) Recommended Name of Target Chain',\n",
       " 'UniProt (SwissProt) Entry Name of Target Chain',\n",
       " 'UniProt (SwissProt) Primary ID of Target Chain',\n",
       " 'UniProt (SwissProt) Secondary ID(s) of Target Chain',\n",
       " 'UniProt (SwissProt) Alternative ID(s) of Target Chain',\n",
       " 'UniProt (TrEMBL) Submitted Name of Target Chain',\n",
       " 'UniProt (TrEMBL) Entry Name of Target Chain',\n",
       " 'UniProt (TrEMBL) Primary ID of Target Chain',\n",
       " 'UniProt (TrEMBL) Secondary ID(s) of Target Chain',\n",
       " 'UniProt (TrEMBL) Alternative ID(s) of Target Chain',\n",
       " 'BindingDB Target Chain Sequence',\n",
       " 'PDB ID(s) of Target Chain',\n",
       " 'UniProt (SwissProt) Recommended Name of Target Chain',\n",
       " 'UniProt (SwissProt) Entry Name of Target Chain',\n",
       " 'UniProt (SwissProt) Primary ID of Target Chain',\n",
       " 'UniProt (SwissProt) Secondary ID(s) of Target Chain',\n",
       " 'UniProt (SwissProt) Alternative ID(s) of Target Chain',\n",
       " 'UniProt (TrEMBL) Submitted Name of Target Chain',\n",
       " 'UniProt (TrEMBL) Entry Name of Target Chain',\n",
       " 'UniProt (TrEMBL) Primary ID of Target Chain',\n",
       " 'UniProt (TrEMBL) Secondary ID(s) of Target Chain',\n",
       " 'UniProt (TrEMBL) Alternative ID(s) of Target Chain',\n",
       " 'BindingDB Target Chain Sequence',\n",
       " 'PDB ID(s) of Target Chain',\n",
       " 'UniProt (SwissProt) Recommended Name of Target Chain',\n",
       " 'UniProt (SwissProt) Entry Name of Target Chain',\n",
       " 'UniProt (SwissProt) Primary ID of Target Chain',\n",
       " 'UniProt (SwissProt) Secondary ID(s) of Target Chain',\n",
       " 'UniProt (SwissProt) Alternative ID(s) of Target Chain',\n",
       " 'UniProt (TrEMBL) Submitted Name of Target Chain',\n",
       " 'UniProt (TrEMBL) Entry Name of Target Chain',\n",
       " 'UniProt (TrEMBL) Primary ID of Target Chain',\n",
       " 'UniProt (TrEMBL) Secondary ID(s) of Target Chain',\n",
       " 'UniProt (TrEMBL) Alternative ID(s) of Target Chain']"
      ]
     },
     "execution_count": 27,
     "metadata": {},
     "output_type": "execute_result"
    }
   ],
   "source": [
    "data[0].split(\"\\t\")"
   ]
  },
  {
   "cell_type": "code",
   "execution_count": 24,
   "metadata": {},
   "outputs": [
    {
     "data": {
      "text/plain": [
       "200"
      ]
     },
     "execution_count": 24,
     "metadata": {},
     "output_type": "execute_result"
    }
   ],
   "source": [
    "len(data[1356262].split(\"\\t\"))"
   ]
  },
  {
   "cell_type": "code",
   "execution_count": 28,
   "metadata": {},
   "outputs": [
    {
     "data": {
      "text/plain": [
       "'1\\tO[C@@H]1[C@@H](O)[C@@H](Cc2ccccc2)N(CCCCCC(O)=O)C(=O)N(CCCCCC(O)=O)[C@@H]1Cc1ccccc1\\tInChI=1S/C31H42N2O7/c34-27(35)17-9-3-11-19-32-25(21-23-13-5-1-6-14-23)29(38)30(39)26(22-24-15-7-2-8-16-24)33(31(32)40)20-12-4-10-18-28(36)37/h1-2,5-8,13-16,25-26,29-30,38-39H,3-4,9-12,17-22H2,(H,34,35)(H,36,37)/t25-,26-,29+,30+/m1/s1\\tXGEGDSLAQZJGCW-HHGOQMMWSA-N\\t608734\\t6-[(4R,5S,6S,7R)-4,7-dibenzyl-3-(5-carboxypentyl)-5,6-dihydroxy-2-oxo-1,3-diazepan-1-yl]hexanoic acid::DMPC Cyclic Urea 1\\tDimer of Gag-Pol polyprotein [501-599]\\tHuman immunodeficiency virus 1\\t 0.24\\t\\t\\t\\t\\t\\t5.5\\t37.00 C\\tCurated from the literature by BindingDB\\t10.1021/jm9602571\\t10.7270/Q2ZW1J3M\\t8784449\\taid1795214\\t\\tLam, PY; Ru, Y; Jadhav, PK; Aldrich, PE; DeLucca, GV; Eyermann, CJ; Chang, CH; Emmett, G; Holler, ER; Daneker, WF; Li, L; Confalone, PN; McHugh, RJ; Han, Q; Li, R; Markwalder, JA; Seitz, SP; Sharpe, TR; Bacheler, LT; Rayner, MM; Klabe, RM; Shum, L; Winslow, DL; Kornhauser, DM; Hodge, CN\\tDuPont Pharmaceuticals Company\\thttp://www.bindingdb.org/bind/chemsearch/marvin/MolStructure.jsp?monomerid=608734\\thttp://www.bindingdb.org/jsp/dbsearch/PrimarySearch_ki.jsp?energyterm=kJ/mole&tag=com&complexid=56&target=Dimer+of+Gag-Pol+polyprotein+%5B501-599%5D&column=ki&startPg=0&Increment=50&submit=Search\\thttp://www.bindingdb.org/jsp/dbsearch/PrimarySearch_ki.jsp?energyterm=kJ/mole&tag=r21&monomerid=608734&enzyme=Dimer+of+Gag-Pol+polyprotein+%5B501-599%5D&column=ki&startPg=0&Increment=50&submit=Search\\t\\t\\t3009304\\t483500124\\t\\t\\t\\t\\t\\t\\t1\\tPQITLWQRPLVTIKIGGQLKEALLDTGADDTVLEEMSLPGRWKPKMIGGIGGFIKVRQYDQILIEICGHKAIGTVLVGPTPVNIIGRNLLTQIGCTLNF\\t1C70,1D4H,1D4I,1D4J,1DIF,1EBW,1EBZ,1EC0,1EC1,1EC2,1EC3,1FQX,1G2K,1G35,1GNO,1HBV,1HHP,1HIH,1HOS,1HPS,1HPV,1HPX,1HSG,1HTE,1HTF,1HTG,1HVC,1HVI,1HVJ,1HVK,1HVL,1IIQ,1M0B,1MUI,1NH0,1NPA,1NPV,1NPW,1OHR,1SGU,1SH9,1SP5,1T7K,1U8G,1UPJ,1W5V,1W5W,1W5X,1W5Y,1WBK,1WBM,1XL2,1XL5,1YT9,1ZSF,1ZSR,2A4F,2AQU,2B7Z,2BB9,2BBB,2BPV,2BPW,2BPX,2BPY,2BPZ,2BQV,2CEJ,2CEM,2CEN,2FDE,2JE4,2PQZ,2PWC,2PWR,2QNN,2QNP,2QNQ,2UPJ,2UXZ,2UY0,2WKZ,2ZGA,3BGB,3BGC,3BHE,3BXR,3CKT,3GGA,3GGV,3GGX,3PHV,3PSU,3T11,3U71,4DQC,4DQE,4DQF,4DQG,4EQ0,4EQJ,4FE6,4HLA,4I8W,4I8Z,5TYR,5TYS,6D0D,6D0E,6OPV,6UWB,6UWC,7UPJ,8CI7\\tGag-Pol polyprotein\\tPOL_HV1BR\\tP03367'"
      ]
     },
     "execution_count": 28,
     "metadata": {},
     "output_type": "execute_result"
    }
   ],
   "source": [
    "data[1]"
   ]
  }
 ],
 "metadata": {
  "kernelspec": {
   "display_name": "cuda117",
   "language": "python",
   "name": "python3"
  },
  "language_info": {
   "codemirror_mode": {
    "name": "ipython",
    "version": 3
   },
   "file_extension": ".py",
   "mimetype": "text/x-python",
   "name": "python",
   "nbconvert_exporter": "python",
   "pygments_lexer": "ipython3",
   "version": "3.10.13"
  }
 },
 "nbformat": 4,
 "nbformat_minor": 2
}
